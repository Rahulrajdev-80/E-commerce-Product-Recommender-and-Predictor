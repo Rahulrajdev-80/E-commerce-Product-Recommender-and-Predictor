{
 "cells": [
  {
   "cell_type": "markdown",
   "metadata": {},
   "source": [
    "# 🛒 E-commerce Product Analysis and Recommendation"
   ]
  },
  {
   "cell_type": "code",
   "execution_count": null,
   "metadata": {},
   "outputs": [],
   "source": [
    "import pandas as pd
",
    "from sklearn.model_selection import train_test_split
",
    "from sklearn.linear_model import LogisticRegression
",
    "from sklearn.preprocessing import LabelEncoder
",
    "from sklearn.metrics import classification_report
",
    "import seaborn as sns
",
    "import matplotlib.pyplot as plt
",
    "
",
    "# Load dataset
",
    "df = pd.read_csv("ecommerce_product_dataset.csv")
",
    "
",
    "# Label encode category
",
    "le = LabelEncoder()
",
    "df["CategoryEncoded"] = le.fit_transform(df["Category"])
",
    "
",
    "# Define target variable
",
    "df["HighSales"] = (df["Sales"] > df["Sales"].median()).astype(int)
",
    "
",
    "# Logistic Regression
",
    "X = df[["Price", "Rating", "NumReviews", "StockQuantity", "Discount", "CategoryEncoded"]]
",
    "y = df["HighSales"]
",
    "
",
    "X_train, X_test, y_train, y_test = train_test_split(X, y, test_size=0.2, random_state=42)
",
    "model = LogisticRegression(max_iter=1000)
",
    "model.fit(X_train, y_train)
",
    "
",
    "y_pred = model.predict(X_test)
",
    "print(classification_report(y_test, y_pred))"
   ]
  },
  {
   "cell_type": "code",
   "execution_count": null,
   "metadata": {},
   "outputs": [],
   "source": [
    "# Visualization
",
    "sns.histplot(df["Sales"], kde=True)
",
    "plt.title("Sales Distribution")
",
    "plt.show()
",
    "
",
    "sns.heatmap(df.corr(), annot=True, cmap="coolwarm")
",
    "plt.title("Correlation Heatmap")
",
    "plt.show()
",
    "
",
    "df.groupby("Category")["Sales"].mean().sort_values().plot(kind='barh')
",
    "plt.title("Average Sales per Category")
",
    "plt.xlabel("Sales")
",
    "plt.show()"
   ]
  },
  {
   "cell_type": "code",
   "execution_count": null,
   "metadata": {},
   "outputs": [],
   "source": [
    "# Recommender Function
",
    "def recommend_products(category, top_n=5):
",
    "    filtered = df[df["Category"] == category]
",
    "    return filtered.sort_values("Sales", ascending=False).head(top_n)[["ProductName", "Price", "Rating", "Sales"]]
",
    "
",
    "# Example usage
",
    "recommend_products("Electronics")"
   ]
  }
 ],
 "metadata": {
  "kernelspec": {
   "display_name": "Python 3",
   "language": "python",
   "name": "python3"
  },
  "language_info": {
   "name": "python",
   "version": "3.11"
  }
 },
 "nbformat": 4,
 "nbformat_minor": 2
}
